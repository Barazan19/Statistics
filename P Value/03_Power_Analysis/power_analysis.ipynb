{
 "cells": [
  {
   "cell_type": "markdown",
   "id": "580086b3",
   "metadata": {},
   "source": [
    "# Power Analysis: Required Sample Size"
   ]
  },
  {
   "cell_type": "code",
   "execution_count": null,
   "id": "59c44c02",
   "metadata": {},
   "outputs": [],
   "source": [
    "\n",
    "# 03 - Power Analysis: Required Sample Size\n",
    "\n",
    "from statsmodels.stats.power import TTestIndPower\n",
    "\n",
    "analysis = TTestIndPower()\n",
    "sample_size = analysis.solve_power(effect_size=0.8, alpha=0.05, power=0.8, alternative='two-sided')\n",
    "\n",
    "print(f\"Required sample size per group for 80% power: {sample_size:.2f}\")\n"
   ]
  }
 ],
 "metadata": {},
 "nbformat": 4,
 "nbformat_minor": 5
}
