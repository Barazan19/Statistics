{
 "cells": [
  {
   "cell_type": "markdown",
   "id": "7a108fcb",
   "metadata": {},
   "source": [
    "# Statistical Power Calculation"
   ]
  },
  {
   "cell_type": "code",
   "execution_count": null,
   "id": "531191e7",
   "metadata": {},
   "outputs": [],
   "source": [
    "\n",
    "# 02 - Statistical Power Calculation\n",
    "\n",
    "import numpy as np\n",
    "from statsmodels.stats.power import TTestIndPower\n",
    "\n",
    "# Simulated data\n",
    "np.random.seed(1)\n",
    "placebo = np.random.normal(loc=8, scale=2, size=20)\n",
    "drug = np.random.normal(loc=6, scale=2, size=20)\n",
    "\n",
    "# Calculate effect size\n",
    "pooled_std = np.std(np.concatenate([placebo, drug]))\n",
    "effect_size = (np.mean(placebo) - np.mean(drug)) / pooled_std\n",
    "\n",
    "# Power analysis\n",
    "analysis = TTestIndPower()\n",
    "power = analysis.solve_power(effect_size=effect_size, nobs1=20, alpha=0.05)\n",
    "\n",
    "print(f\"Effect size: {effect_size:.3f}\")\n",
    "print(f\"Statistical Power: {power:.3f}\")\n"
   ]
  }
 ],
 "metadata": {},
 "nbformat": 4,
 "nbformat_minor": 5
}
