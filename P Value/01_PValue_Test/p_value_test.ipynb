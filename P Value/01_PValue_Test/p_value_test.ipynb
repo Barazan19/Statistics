{
 "cells": [
  {
   "cell_type": "markdown",
   "id": "b7323e1b",
   "metadata": {},
   "source": [
    "# P-Value Test for Flu Drug"
   ]
  },
  {
   "cell_type": "code",
   "execution_count": null,
   "id": "ae368785",
   "metadata": {},
   "outputs": [],
   "source": [
    "\n",
    "# 01 - P-Value Test for Flu Drug Effectiveness\n",
    "\n",
    "import numpy as np\n",
    "from scipy.stats import ttest_ind\n",
    "\n",
    "# Simulate viral count (in 1000s)\n",
    "np.random.seed(1)\n",
    "placebo = np.random.normal(loc=8, scale=2, size=20)\n",
    "drug = np.random.normal(loc=6, scale=2, size=20)\n",
    "\n",
    "# Perform independent t-test\n",
    "t_stat, p_val = ttest_ind(drug, placebo)\n",
    "\n",
    "print(f\"T-statistic: {t_stat:.3f}\")\n",
    "print(f\"P-value: {p_val:.4f}\")\n",
    "\n",
    "alpha = 0.05\n",
    "if p_val < alpha:\n",
    "    print(\"✅ Statistically significant result: Reject H0\")\n",
    "else:\n",
    "    print(\"❌ Not statistically significant: Fail to reject H0\")\n"
   ]
  }
 ],
 "metadata": {},
 "nbformat": 4,
 "nbformat_minor": 5
}
