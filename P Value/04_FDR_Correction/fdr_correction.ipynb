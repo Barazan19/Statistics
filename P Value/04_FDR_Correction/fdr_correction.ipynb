{
 "cells": [
  {
   "cell_type": "markdown",
   "id": "6b35450d",
   "metadata": {},
   "source": [
    "# FDR Correction for Multiple Virus Tests"
   ]
  },
  {
   "cell_type": "code",
   "execution_count": null,
   "id": "3177a2cc",
   "metadata": {},
   "outputs": [],
   "source": [
    "\n",
    "# 04 - FDR Correction for Multiple Virus Tests\n",
    "\n",
    "import numpy as np\n",
    "from statsmodels.stats.multitest import multipletests\n",
    "\n",
    "# Simulate multiple p-values\n",
    "np.random.seed(0)\n",
    "p_values = np.random.rand(10) * 0.1  # 10 small p-values\n",
    "\n",
    "# Apply Benjamini-Hochberg correction\n",
    "rejected, pvals_corrected, _, _ = multipletests(p_values, alpha=0.05, method='fdr_bh')\n",
    "\n",
    "print(\"Original p-values:\", p_values)\n",
    "print(\"FDR-corrected p-values:\", pvals_corrected)\n",
    "print(\"Reject null hypothesis:\", rejected)\n"
   ]
  }
 ],
 "metadata": {},
 "nbformat": 4,
 "nbformat_minor": 5
}
